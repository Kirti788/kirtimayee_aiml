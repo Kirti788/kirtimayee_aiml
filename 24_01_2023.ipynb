{
  "nbformat": 4,
  "nbformat_minor": 0,
  "metadata": {
    "colab": {
      "provenance": [],
      "authorship_tag": "ABX9TyM1b+StFVbN8MwGW3tacmao",
      "include_colab_link": true
    },
    "kernelspec": {
      "name": "python3",
      "display_name": "Python 3"
    },
    "language_info": {
      "name": "python"
    }
  },
  "cells": [
    {
      "cell_type": "markdown",
      "metadata": {
        "id": "view-in-github",
        "colab_type": "text"
      },
      "source": [
        "<a href=\"https://colab.research.google.com/github/Kirti788/kirtimayee_aiml/blob/main/24_01_2023.ipynb\" target=\"_parent\"><img src=\"https://colab.research.google.com/assets/colab-badge.svg\" alt=\"Open In Colab\"/></a>"
      ]
    },
    {
      "cell_type": "code",
      "execution_count": null,
      "metadata": {
        "id": "rY9x4MXGQ0c7"
      },
      "outputs": [],
      "source": []
    },
    {
      "cell_type": "markdown",
      "source": [
        "input radius finds AREA of CIRCLE and PERIMETRE of the CIRCLE ."
      ],
      "metadata": {
        "id": "SPq7sTsZgdKF"
      }
    },
    {
      "cell_type": "code",
      "source": [
        " r=int(input(\"ENTER RADIUS OF THE CIRCLE: \"))\n",
        " area=3.141*r*r\n",
        " perimeter=2*3.141*r\n",
        " print(\"THE AREA OF CIRCLE OF GIVEN CIRCLE IS=\",area)\n",
        " print(\"THE PERIMETER OF CIRCLE OF GIVEN CIRCLE IS=\",perimeter)\n"
      ],
      "metadata": {
        "colab": {
          "base_uri": "https://localhost:8080/"
        },
        "id": "vd7WMUWih2ft",
        "outputId": "66560f61-9478-4308-8818-17aefab9ac81"
      },
      "execution_count": null,
      "outputs": [
        {
          "output_type": "stream",
          "name": "stdout",
          "text": [
            "ENTER RADIUS OF THE CIRCLE: 4\n",
            "THE AREA OF CIRCLE OF GIVEN CIRCLE IS= 50.256\n",
            "THE PERIMETER OF CIRCLE OF GIVEN CIRCLE IS= 25.128\n"
          ]
        }
      ]
    },
    {
      "cell_type": "markdown",
      "source": [
        "INPUT KILOMETER CONVERTS TO CENTIMETER ,METER AND MILIMETER"
      ],
      "metadata": {
        "id": "CLVAhXA1kNcf"
      }
    },
    {
      "cell_type": "code",
      "source": [
        "km=float(input(\"ENTER KILOMETER VALUE=\"))\n",
        "m=km*1000\n",
        "cm=km*100000\n",
        "mm=km*1000000\n",
        "print(\"THE KILOMETER IN METER IS=\",m)\n",
        "print(\"THE GIVEN KILOMETER IN CENTIMETER IS\",cm)\n",
        "print(\"THE GIVEN KILOMETER IN MILIMETER IS=\",mm)\n"
      ],
      "metadata": {
        "colab": {
          "base_uri": "https://localhost:8080/"
        },
        "id": "QEw7-KDOkeuW",
        "outputId": "00f93bef-9c49-4ea7-af7b-620e9f699de1"
      },
      "execution_count": null,
      "outputs": [
        {
          "output_type": "stream",
          "name": "stdout",
          "text": [
            "ENTER KILOMETER VALUE=10\n",
            "THE KILOMETER IN METER IS= 10000.0\n",
            "THE GIVEN KILOMETER IN CENTIMETER IS 1000000.0\n",
            "THE GIVEN KILOMETER IN MILIMETER IS= 10000000.0\n"
          ]
        }
      ]
    },
    {
      "cell_type": "markdown",
      "source": [
        "INPUT TWO NUMBERS FIND SUM WITHOUT '+' OPERATOR"
      ],
      "metadata": {
        "id": "SV17nnKYlnpB"
      }
    },
    {
      "cell_type": "code",
      "source": [
        "a=int(input(\"ENTER a VALUE=\"))\n",
        "b=int(input(\"ENTER b VALUE=\"))\n",
        "def sum(a,b):\n",
        "   for i in range(1,b + 1):\n",
        "     a=a+1\n",
        "   return a\n",
        "print('SUM OF NUMBERS=',sum(a,b))\n",
        "     "
      ],
      "metadata": {
        "colab": {
          "base_uri": "https://localhost:8080/"
        },
        "id": "27x8xceHl6-s",
        "outputId": "9e0b6224-6834-4fc9-c7bf-95ee5e3c0626"
      },
      "execution_count": null,
      "outputs": [
        {
          "output_type": "stream",
          "name": "stdout",
          "text": [
            "ENTER a VALUE=77\n",
            "ENTER b VALUE=66\n",
            "SUM OF NUMBERS= 143\n"
          ]
        }
      ]
    },
    {
      "cell_type": "markdown",
      "source": [
        "INPUT TWO NUMBERS FIND REMAINDER WITHOUT '%'"
      ],
      "metadata": {
        "id": "sxupySPCnTqe"
      }
    },
    {
      "cell_type": "code",
      "source": [
        "a=int(input(\"ENTER a VALUE=\"))\n",
        "b=int(input(\"ENTER b VALUE=\"))\n",
        "def rem(a,b):\n",
        "  return(a-b*(a//b))\n",
        "  print(\"THE REMAINDER IS=\",rem(a,b))"
      ],
      "metadata": {
        "colab": {
          "base_uri": "https://localhost:8080/"
        },
        "id": "ExtZ_tfXnhsU",
        "outputId": "d727a9de-0756-440d-bd24-d6fe44e1166b"
      },
      "execution_count": null,
      "outputs": [
        {
          "name": "stdout",
          "output_type": "stream",
          "text": [
            "ENTER a VALUE=6\n",
            "ENTER b VALUE=7\n"
          ]
        }
      ]
    },
    {
      "cell_type": "markdown",
      "source": [],
      "metadata": {
        "id": "x_-JLmCEoaYK"
      }
    }
  ]
}